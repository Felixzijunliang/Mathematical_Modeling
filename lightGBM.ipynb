{
 "cells": [
  {
   "cell_type": "markdown",
   "id": "b38bceb4",
   "metadata": {},
   "source": [
    "LightGBM回归模型验证 - 使用加州房价数据集"
   ]
  },
  {
   "cell_type": "code",
   "execution_count": 1,
   "id": "c8ec2fa2",
   "metadata": {},
   "outputs": [],
   "source": [
    "# 导入必要库\n",
    "import numpy as np\n",
    "import matplotlib.pyplot as plt\n",
    "import lightgbm as lgb\n",
    "from sklearn.datasets import fetch_california_housing\n",
    "from sklearn.model_selection import train_test_split\n",
    "from sklearn.metrics import mean_squared_error, r2_score\n",
    "from sklearn.preprocessing import StandardScaler"
   ]
  },
  {
   "cell_type": "code",
   "execution_count": 2,
   "id": "c036e591",
   "metadata": {},
   "outputs": [
    {
     "name": "stdout",
     "output_type": "stream",
     "text": [
      "==================================================\n",
      "加载加州房价数据集...\n",
      "数据集信息:\n",
      "- 样本数量: 20640\n",
      "- 特征数量: 8\n",
      "- 目标变量范围: [0.1, 5.0] (单位: $100,000)\n",
      "- 特征名称: ['MedInc', 'HouseAge', 'AveRooms', 'AveBedrms', 'Population', 'AveOccup', 'Latitude', 'Longitude']\n"
     ]
    }
   ],
   "source": [
    "# 1. 加载加州房价数据集（核心：这就是你要的数据集！）\n",
    "print(\"=\"*50)\n",
    "print(\"加载加州房价数据集...\")\n",
    "cal_housing = fetch_california_housing()\n",
    "X, y = cal_housing.data, cal_housing.target\n",
    "\n",
    "print(f\"数据集信息:\")\n",
    "print(f\"- 样本数量: {X.shape[0]}\")\n",
    "print(f\"- 特征数量: {X.shape[1]}\")\n",
    "print(f\"- 目标变量范围: [{y.min():.1f}, {y.max():.1f}] (单位: $100,000)\")\n",
    "print(f\"- 特征名称: {cal_housing.feature_names}\")"
   ]
  },
  {
   "cell_type": "code",
   "execution_count": 3,
   "id": "9ee72db1",
   "metadata": {},
   "outputs": [
    {
     "name": "stdout",
     "output_type": "stream",
     "text": [
      "\n",
      "==================================================\n",
      "数据预处理...\n",
      "✓ 特征标准化完成\n"
     ]
    }
   ],
   "source": [
    "# 2. 数据预处理\n",
    "print(\"\\n\" + \"=\"*50)\n",
    "print(\"数据预处理...\")\n",
    "scaler = StandardScaler()\n",
    "X = scaler.fit_transform(X)\n",
    "print(\"✓ 特征标准化完成\")"
   ]
  },
  {
   "cell_type": "code",
   "execution_count": 4,
   "id": "ddc420e3",
   "metadata": {},
   "outputs": [
    {
     "name": "stdout",
     "output_type": "stream",
     "text": [
      "✓ 数据集划分完成: 训练集 16512 样本, 测试集 4128 样本\n"
     ]
    }
   ],
   "source": [
    "# 3. 划分训练集和测试集\n",
    "X_train, X_test, y_train, y_test = train_test_split(\n",
    "    X, y, test_size=0.2, random_state=42\n",
    ")\n",
    "print(f\"✓ 数据集划分完成: 训练集 {X_train.shape[0]} 样本, 测试集 {X_test.shape[0]} 样本\")"
   ]
  },
  {
   "cell_type": "code",
   "execution_count": 5,
   "id": "4befcd62",
   "metadata": {},
   "outputs": [
    {
     "name": "stdout",
     "output_type": "stream",
     "text": [
      "✓ LightGBM数据集创建完成\n"
     ]
    }
   ],
   "source": [
    "# 4. 创建LightGBM数据集\n",
    "train_data = lgb.Dataset(X_train, label=y_train)\n",
    "test_data = lgb.Dataset(X_test, label=y_test, reference=train_data)\n",
    "print(\"✓ LightGBM数据集创建完成\")"
   ]
  },
  {
   "cell_type": "code",
   "execution_count": 6,
   "id": "3080e473",
   "metadata": {},
   "outputs": [
    {
     "name": "stdout",
     "output_type": "stream",
     "text": [
      "✓ 模型参数设置完成\n"
     ]
    }
   ],
   "source": [
    "# 5. 设置参数\n",
    "params = {\n",
    "    'objective': 'regression',\n",
    "    'metric': 'rmse',\n",
    "    'num_leaves': 31,\n",
    "    'learning_rate': 0.05,\n",
    "    'feature_fraction': 0.9,\n",
    "    'bagging_fraction': 0.8,\n",
    "    'bagging_freq': 5,\n",
    "    'verbose': -1,\n",
    "    'random_state': 42\n",
    "}\n",
    "print(\"✓ 模型参数设置完成\")"
   ]
  },
  {
   "cell_type": "code",
   "execution_count": null,
   "id": "f73a5f07",
   "metadata": {},
   "outputs": [],
   "source": [
    "# 6. 训练模型（修复版本）\n",
    "print(\"\\n\" + \"=\"*50)\n",
    "print(\"开始训练LightGBM模型...\")\n",
    "model = lgb.train(\n",
    "    params,\n",
    "    train_data,\n",
    "    valid_sets=[test_data],\n",
    "    num_boost_round=1000,\n",
    "    callbacks=[lgb.early_stopping(50), lgb.log_evaluation(50)]\n",
    ")\n"
   ]
  },
  {
   "cell_type": "code",
   "execution_count": 7,
   "id": "b4a7a5ff",
   "metadata": {},
   "outputs": [
    {
     "name": "stdout",
     "output_type": "stream",
     "text": [
      "\n",
      "==================================================\n",
      "开始训练LightGBM模型...\n"
     ]
    },
    {
     "ename": "TypeError",
     "evalue": "train() got an unexpected keyword argument 'early_stopping_rounds'",
     "output_type": "error",
     "traceback": [
      "\u001b[31m---------------------------------------------------------------------------\u001b[39m",
      "\u001b[31mTypeError\u001b[39m                                 Traceback (most recent call last)",
      "\u001b[36mCell\u001b[39m\u001b[36m \u001b[39m\u001b[32mIn[7]\u001b[39m\u001b[32m, line 4\u001b[39m\n\u001b[32m      2\u001b[39m \u001b[38;5;28mprint\u001b[39m(\u001b[33m\"\u001b[39m\u001b[38;5;130;01m\\n\u001b[39;00m\u001b[33m\"\u001b[39m + \u001b[33m\"\u001b[39m\u001b[33m=\u001b[39m\u001b[33m\"\u001b[39m*\u001b[32m50\u001b[39m)\n\u001b[32m      3\u001b[39m \u001b[38;5;28mprint\u001b[39m(\u001b[33m\"\u001b[39m\u001b[33m开始训练LightGBM模型...\u001b[39m\u001b[33m\"\u001b[39m)\n\u001b[32m----> \u001b[39m\u001b[32m4\u001b[39m model = \u001b[43mlgb\u001b[49m\u001b[43m.\u001b[49m\u001b[43mtrain\u001b[49m\u001b[43m(\u001b[49m\n\u001b[32m      5\u001b[39m \u001b[43m    \u001b[49m\u001b[43mparams\u001b[49m\u001b[43m,\u001b[49m\n\u001b[32m      6\u001b[39m \u001b[43m    \u001b[49m\u001b[43mtrain_data\u001b[49m\u001b[43m,\u001b[49m\n\u001b[32m      7\u001b[39m \u001b[43m    \u001b[49m\u001b[43mvalid_sets\u001b[49m\u001b[43m=\u001b[49m\u001b[43m[\u001b[49m\u001b[43mtest_data\u001b[49m\u001b[43m]\u001b[49m\u001b[43m,\u001b[49m\n\u001b[32m      8\u001b[39m \u001b[43m    \u001b[49m\u001b[43mnum_boost_round\u001b[49m\u001b[43m=\u001b[49m\u001b[32;43m1000\u001b[39;49m\u001b[43m,\u001b[49m\n\u001b[32m      9\u001b[39m \u001b[43m    \u001b[49m\u001b[43mearly_stopping_rounds\u001b[49m\u001b[43m=\u001b[49m\u001b[32;43m50\u001b[39;49m\u001b[43m,\u001b[49m\n\u001b[32m     10\u001b[39m \u001b[43m    \u001b[49m\u001b[43mverbose_eval\u001b[49m\u001b[43m=\u001b[49m\u001b[32;43m50\u001b[39;49m\n\u001b[32m     11\u001b[39m \u001b[43m)\u001b[49m\n",
      "\u001b[31mTypeError\u001b[39m: train() got an unexpected keyword argument 'early_stopping_rounds'"
     ]
    }
   ],
   "source": [
    "# 6. 训练模型\n",
    "print(\"\\n\" + \"=\"*50)\n",
    "print(\"开始训练LightGBM模型...\")\n",
    "model = lgb.train(\n",
    "    params,\n",
    "    train_data,\n",
    "    valid_sets=[test_data],\n",
    "    num_boost_round=1000,\n",
    "    early_stopping_rounds=50,\n",
    "    verbose_eval=50\n",
    ")"
   ]
  },
  {
   "cell_type": "code",
   "execution_count": null,
   "id": "08aa91f7",
   "metadata": {},
   "outputs": [],
   "source": [
    "# 7. 预测与评估\n",
    "print(\"\\n\" + \"=\"*50)\n",
    "print(\"模型评估...\")\n",
    "y_pred = model.predict(X_test, num_iteration=model.best_iteration)\n",
    "rmse = np.sqrt(mean_squared_error(y_test, y_pred))\n",
    "r2 = r2_score(y_test, y_pred)\n",
    "\n",
    "print(f\"✓ 测试集RMSE: {rmse:.4f}\")\n",
    "print(f\"✓ 测试集R²: {r2:.4f}\")\n",
    "print(f\"✓ 最佳迭代次数: {model.best_iteration}\")"
   ]
  },
  {
   "cell_type": "code",
   "execution_count": null,
   "id": "5d6a30d0",
   "metadata": {},
   "outputs": [],
   "source": [
    "# 8. 验证成功标志\n",
    "print(\"\\n\" + \"=\"*50)\n",
    "if rmse < 0.8 and r2 > 0.7:\n",
    "    print(\"✅ 验证成功! LightGBM模型表现良好\")\n",
    "    print(f\"   期望范围: RMSE < 0.8, R² > 0.7\")\n",
    "    print(f\"   实际结果: RMSE = {rmse:.4f}, R² = {r2:.4f}\")\n",
    "else:\n",
    "    print(\"⚠️ 注意: 模型表现可能未达预期\")\n",
    "    print(f\"   期望范围: RMSE < 0.8, R² > 0.7\")\n",
    "    print(f\"   实际结果: RMSE = {rmse:.4f}, R² = {r2:.4f}\")\n",
    "    print(\"   建议: 调整参数或检查代码\")"
   ]
  },
  {
   "cell_type": "code",
   "execution_count": null,
   "id": "6fce755c",
   "metadata": {},
   "outputs": [],
   "source": [
    "# 9. 特征重要性分析（可选，但推荐）\n",
    "plt.figure(figsize=(12, 8))\n",
    "lgb.plot_importance(model, max_num_features=8, importance_type='gain', figsize=(12, 8))\n",
    "plt.title('加州房价数据集 - 特征重要性', fontsize=16)\n",
    "plt.tight_layout()\n",
    "plt.savefig('feature_importance.png', dpi=300, bbox_inches='tight')\n",
    "print(\"\\n✓ 特征重要性图已保存为 'feature_importance.png'\")"
   ]
  },
  {
   "cell_type": "code",
   "execution_count": null,
   "id": "98dc5084",
   "metadata": {},
   "outputs": [],
   "source": [
    "# 10. 预测值vs实际值图（可选，但推荐）\n",
    "plt.figure(figsize=(10, 6))\n",
    "plt.scatter(y_test, y_pred, alpha=0.5)\n",
    "plt.plot([min(y_test), max(y_test)], [min(y_test), max(y_test)], 'r--')\n",
    "plt.xlabel('实际房价 (×$100,000)', fontsize=12)\n",
    "plt.ylabel('预测房价 (×$100,000)', fontsize=12)\n",
    "plt.title('预测值 vs 实际值', fontsize=14)\n",
    "plt.grid(True, linestyle='--', alpha=0.7)\n",
    "plt.tight_layout()\n",
    "plt.savefig('prediction_vs_actual.png', dpi=300, bbox_inches='tight')\n",
    "print(\"✓ 预测对比图已保存为 'prediction_vs_actual.png'\")\n",
    "\n",
    "print(\"\\n\" + \"=\"*50)\n",
    "print(\"LightGBM回归验证完成!\")\n",
    "print(\"数据集: California Housing Dataset\")\n",
    "print(\"验证状态: 成功\")"
   ]
  }
 ],
 "metadata": {
  "kernelspec": {
   "display_name": "base",
   "language": "python",
   "name": "python3"
  },
  "language_info": {
   "codemirror_mode": {
    "name": "ipython",
    "version": 3
   },
   "file_extension": ".py",
   "mimetype": "text/x-python",
   "name": "python",
   "nbconvert_exporter": "python",
   "pygments_lexer": "ipython3",
   "version": "3.12.7"
  }
 },
 "nbformat": 4,
 "nbformat_minor": 5
}
